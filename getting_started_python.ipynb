{
  "nbformat": 4,
  "nbformat_minor": 0,
  "metadata": {
    "colab": {
      "provenance": [],
      "authorship_tag": "ABX9TyN9lndyyvnCMx4goF2LjPRo",
      "include_colab_link": true
    },
    "kernelspec": {
      "name": "python3",
      "display_name": "Python 3"
    },
    "language_info": {
      "name": "python"
    },
    "accelerator": "TPU"
  },
  "cells": [
    {
      "cell_type": "markdown",
      "metadata": {
        "id": "view-in-github",
        "colab_type": "text"
      },
      "source": [
        "<a href=\"https://colab.research.google.com/github/johniewong/python-for-devops-Nov2023/blob/main/getting_started_python.ipynb\" target=\"_parent\"><img src=\"https://colab.research.google.com/assets/colab-badge.svg\" alt=\"Open In Colab\"/></a>"
      ]
    },
    {
      "cell_type": "markdown",
      "source": [
        "Introduction to Python"
      ],
      "metadata": {
        "id": "XdObtdDWCmQo"
      }
    },
    {
      "cell_type": "markdown",
      "source": [
        "### Statements in Python"
      ],
      "metadata": {
        "id": "UBnRS2A_CsbH"
      }
    },
    {
      "cell_type": "code",
      "source": [
        "print(\"Hello World\")"
      ],
      "metadata": {
        "id": "6D4nL-GvCwGA",
        "outputId": "80557d5e-de6c-4b9c-a61a-9c67187d3772",
        "colab": {
          "base_uri": "https://localhost:8080/"
        }
      },
      "execution_count": 1,
      "outputs": [
        {
          "output_type": "stream",
          "name": "stdout",
          "text": [
            "Hello World\n"
          ]
        }
      ]
    },
    {
      "cell_type": "code",
      "source": [
        "name = \"Johnie\"\n",
        "print(f\"Hello {name}\")"
      ],
      "metadata": {
        "id": "buzdRlk1C4ZR",
        "outputId": "aa5942e3-0b55-4cb4-bc21-aa6d263185aa",
        "colab": {
          "base_uri": "https://localhost:8080/"
        }
      },
      "execution_count": 2,
      "outputs": [
        {
          "output_type": "stream",
          "name": "stdout",
          "text": [
            "Hello Johnie\n"
          ]
        }
      ]
    },
    {
      "cell_type": "markdown",
      "source": [
        "### Data Structures: Lists and Dictionaries"
      ],
      "metadata": {
        "id": "_C97HLqzDBYG"
      }
    },
    {
      "cell_type": "markdown",
      "source": [
        "List"
      ],
      "metadata": {
        "id": "b_xJgM1MEYsO"
      }
    },
    {
      "cell_type": "code",
      "source": [
        "fruits = [\"apple\", \"orange\", \"banana\"]"
      ],
      "metadata": {
        "id": "rG1xU_ajDKpb"
      },
      "execution_count": 4,
      "outputs": []
    },
    {
      "cell_type": "code",
      "source": [
        "type(fruits)"
      ],
      "metadata": {
        "id": "aDH1X-NiDRtP",
        "outputId": "53fdd36b-b7d1-4d9a-8774-bd2889af79d8",
        "colab": {
          "base_uri": "https://localhost:8080/"
        }
      },
      "execution_count": 6,
      "outputs": [
        {
          "output_type": "execute_result",
          "data": {
            "text/plain": [
              "list"
            ]
          },
          "metadata": {},
          "execution_count": 6
        }
      ]
    },
    {
      "cell_type": "code",
      "source": [
        "fruits[0]"
      ],
      "metadata": {
        "id": "Jn7-5b-HDd2Z",
        "outputId": "14e1850f-d65e-4302-c210-a1b6ca3c4c4e",
        "colab": {
          "base_uri": "https://localhost:8080/",
          "height": 35
        }
      },
      "execution_count": 8,
      "outputs": [
        {
          "output_type": "execute_result",
          "data": {
            "text/plain": [
              "'apple'"
            ],
            "application/vnd.google.colaboratory.intrinsic+json": {
              "type": "string"
            }
          },
          "metadata": {},
          "execution_count": 8
        }
      ]
    },
    {
      "cell_type": "code",
      "source": [
        "fruits[:-1]"
      ],
      "metadata": {
        "id": "ygXBBNeyDrVF",
        "outputId": "898d7582-c577-44d6-9169-6249c41d270a",
        "colab": {
          "base_uri": "https://localhost:8080/"
        }
      },
      "execution_count": 9,
      "outputs": [
        {
          "output_type": "execute_result",
          "data": {
            "text/plain": [
              "['apple', 'orange']"
            ]
          },
          "metadata": {},
          "execution_count": 9
        }
      ]
    },
    {
      "cell_type": "code",
      "source": [
        "for fruit in fruits:\n",
        "  print(f\"This is my favourite fruit: {fruit}\")"
      ],
      "metadata": {
        "id": "tZQZy06iDt9D",
        "outputId": "7e915d01-db1f-45f4-91dd-d1c93c7ea557",
        "colab": {
          "base_uri": "https://localhost:8080/"
        }
      },
      "execution_count": 10,
      "outputs": [
        {
          "output_type": "stream",
          "name": "stdout",
          "text": [
            "This is my favourite fruit: apple\n",
            "This is my favourite fruit: orange\n",
            "This is my favourite fruit: banana\n"
          ]
        }
      ]
    },
    {
      "cell_type": "markdown",
      "source": [
        "Dictionary"
      ],
      "metadata": {
        "id": "_r7zW4V8Easu"
      }
    },
    {
      "cell_type": "code",
      "source": [
        "meals = {\"breakfast\":\"noodle\", \"lunch\":\"pizza\", \"dinner\":\"KFC\"}"
      ],
      "metadata": {
        "id": "slALwzI8Eczl"
      },
      "execution_count": 12,
      "outputs": []
    },
    {
      "cell_type": "code",
      "source": [
        "meals.keys()"
      ],
      "metadata": {
        "id": "UTcyV-ZxErh7",
        "outputId": "1b0eb2e7-d999-44de-c427-bc44fccc1394",
        "colab": {
          "base_uri": "https://localhost:8080/"
        }
      },
      "execution_count": 13,
      "outputs": [
        {
          "output_type": "execute_result",
          "data": {
            "text/plain": [
              "dict_keys(['breakfast', 'lunch', 'dinner'])"
            ]
          },
          "metadata": {},
          "execution_count": 13
        }
      ]
    },
    {
      "cell_type": "code",
      "source": [
        "meals.values()"
      ],
      "metadata": {
        "id": "cFOBoFExE3ga",
        "outputId": "eb5bfaf4-065f-4626-f3b2-e1ae77144b4e",
        "colab": {
          "base_uri": "https://localhost:8080/"
        }
      },
      "execution_count": 14,
      "outputs": [
        {
          "output_type": "execute_result",
          "data": {
            "text/plain": [
              "dict_values(['noodle', 'pizza', 'KFC'])"
            ]
          },
          "metadata": {},
          "execution_count": 14
        }
      ]
    },
    {
      "cell_type": "code",
      "source": [
        "for meal_type, meal_name in meals.items():\n",
        "  print(f\"Today's {meal_type} I have is : {meal_name}\")"
      ],
      "metadata": {
        "id": "VzcAtWUxE8hM",
        "outputId": "9d5e4033-05f9-4dcd-eb37-72a8cc270662",
        "colab": {
          "base_uri": "https://localhost:8080/"
        }
      },
      "execution_count": 16,
      "outputs": [
        {
          "output_type": "stream",
          "name": "stdout",
          "text": [
            "Today's breakfast I have is : noodle\n",
            "Today's lunch I have is : pizza\n",
            "Today's dinner I have is : KFC\n"
          ]
        }
      ]
    },
    {
      "cell_type": "code",
      "source": [],
      "metadata": {
        "id": "cgxTpcmvFY6R"
      },
      "execution_count": null,
      "outputs": []
    }
  ]
}